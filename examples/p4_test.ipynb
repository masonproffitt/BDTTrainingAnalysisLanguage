{
 "cells": [
  {
   "cell_type": "code",
   "execution_count": 1,
   "metadata": {},
   "outputs": [
    {
     "name": "stdout",
     "output_type": "stream",
     "text": [
      "{'eventNumber': <LazyArray 'eventNumber' at 7fa6041447f0>, 'eventCount': <LazyArray 'eventCount' at 7fa604144828>, 'runNumber': <LazyArray 'runNumber' at 7fa604144860>, 'lumiBlock': <LazyArray 'lumiBlock' at 7fa604144898>, 'backgroundFlags': <LazyArray 'backgroundFlags' at 7fa6041448d0>, 'eventWeight': <LazyArray 'eventWeight' at 7fa604144908>, 'pdfEventWeights': <LazyArray 'pdfEventWeights' at 7fa604144940>, 'pileupEventWeight': <LazyArray 'pileupEventWeight' at 7fa604144978>, 'xSecEventWeight': <LazyArray 'xSecEventWeight' at 7fa6041449b0>, 'actualIntPerCrossing': <LazyArray 'actualIntPerCrossing' at 7fa6041449e8>, 'averageIntPerCrossing': <LazyArray 'averageIntPerCrossing' at 7fa604144a20>, 'event_NCleanJets': <LazyArray 'event_NCleanJets' at 7fa604144ac8>, 'event_NJets': <LazyArray 'event_NJets' at 7fa604144a90>, 'event_HT': <LazyArray 'event_HT' at 7fa604144b00>, 'event_MHToHT': <LazyArray 'event_MHToHT' at 7fa604144b38>, 'event_HTMiss': <LazyArray 'event_HTMiss' at 7fa604144b70>, 'event_Meff': <LazyArray 'event_Meff' at 7fa604144ba8>, 'event_sumMinDR': <LazyArray 'event_sumMinDR' at 7fa604144be0>, 'METCST_met': <LazyArray 'METCST_met' at 7fa604144c18>, 'METTST_met': <LazyArray 'METTST_met' at 7fa604144c50>, 'event_tauRoI_maxET': <LazyArray 'event_tauRoI_maxET' at 7fa604144c88>, 'event_passL1TAU60': <LazyArray 'event_passL1TAU60' at 7fa604144cc0>, 'event_passL1LLPNOMATCH': <LazyArray 'event_passL1LLPNOMATCH' at 7fa604144cf8>, 'event_passEmulationL1LLPNOMATCH': <LazyArray 'event_passEmulationL1LLPNOMATCH' at 7fa604144d30>, 'event_passL1LLPRO': <LazyArray 'event_passL1LLPRO' at 7fa604144d68>, 'event_passCalRatio_cleanLLP_TAU60': <LazyArray 'event_passCalRatio_cleanLLP_TAU60' at 7fa604144da0>, 'event_passCalRatio_cleanLLP_TAU60_noiso': <LazyArray 'event_passCalRatio_cleanLLP_TAU60_noiso' at 7fa604144dd8>, 'event_passCalRatio_cleanLLP_LLPNOMATCH': <LazyArray 'event_passCalRatio_cleanLLP_LLPNOMATCH' at 7fa604144e10>, 'event_passCalRatio_cleanLLP_LLPNOMATCH_noiso': <LazyArray 'event_passCalRatio_cleanLLP_LLPNOMATCH_noiso' at 7fa604144e48>, 'event_passEmulationCalRatio_cleanLLP_LLPNOMATCH_noiso': <LazyArray 'event_passEmulationCalRatio_cleanLLP_LLPNOMATCH_noiso' at 7fa604144e80>, 'event_passJ320_bperf_split': <LazyArray 'event_passJ320_bperf_split' at 7fa604144eb8>, 'dPhiLeadBDTsignalWeight_cleanJet': <LazyArray 'dPhiLeadBDTsignalWeight_cleanJet' at 7fa604144ef0>, 'dRLeadBDTsignalWeight_cleanJet': <LazyArray 'dRLeadBDTsignalWeight_cleanJet' at 7fa604144f28>, 'dPhiLeadBDTmultijetsWeight_cleanJet': <LazyArray 'dPhiLeadBDTmultijetsWeight_cleanJet' at 7fa604144f60>, 'dRLeadBDTmultijetsWeight_cleanJet': <LazyArray 'dRLeadBDTmultijetsWeight_cleanJet' at 7fa604144f98>, 'dPhiLeadBDTbibWeight_cleanJet': <LazyArray 'dPhiLeadBDTbibWeight_cleanJet' at 7fa604144fd0>, 'dRLeadBDTbibWeight_cleanJet': <LazyArray 'dRLeadBDTbibWeight_cleanJet' at 7fa60414e048>, 'event_BDTtau60': <LazyArray 'event_BDTtau60' at 7fa60414e080>, 'event_BDTllpnm': <LazyArray 'event_BDTllpnm' at 7fa60414e0b8>, 'BDT3weights_signal_cleanJet_index': <LazyArray 'BDT3weights_signal_cleanJet_index' at 7fa60414e0f0>, 'BDT3weights_multijets_cleanJet_index': <LazyArray 'BDT3weights_multijets_cleanJet_index' at 7fa60414e128>, 'BDT3weights_bib_cleanJet_index': <LazyArray 'BDT3weights_bib_cleanJet_index' at 7fa60414e160>, 'CalibJet_isGoodStand': <LazyArray 'CalibJet_isGoodStand' at 7fa60414e198>, 'CalibJet_isGoodLLP': <LazyArray 'CalibJet_isGoodLLP' at 7fa60414e1d0>, 'CalibJet_E': <LazyArray 'CalibJet_E' at 7fa60414e208>, 'CalibJet_E_EMScale': <LazyArray 'CalibJet_E_EMScale' at 7fa60414e240>, 'CalibJet_ET': <LazyArray 'CalibJet_ET' at 7fa60414e278>, 'CalibJet_pT': <LazyArray 'CalibJet_pT' at 7fa60414e2b0>, 'CalibJet_eta': <LazyArray 'CalibJet_eta' at 7fa60414e2e8>, 'CalibJet_phi': <LazyArray 'CalibJet_phi' at 7fa60414e320>, 'CalibJet_width': <LazyArray 'CalibJet_width' at 7fa60414e358>, 'CalibJet_logRatio': <LazyArray 'CalibJet_logRatio' at 7fa60414e390>, 'CalibJet_time': <LazyArray 'CalibJet_time' at 7fa60414e3c8>, 'CalibJet_BDT3weights_signal': <LazyArray 'CalibJet_BDT3weights_signal' at 7fa60414e400>, 'CalibJet_BDT3weights_multijets': <LazyArray 'CalibJet_BDT3weights_multijets' at 7fa60414e438>, 'CalibJet_BDT3weights_bib': <LazyArray 'CalibJet_BDT3weights_bib' at 7fa60414e470>, 'CalibJet_isCRHLTJet': <LazyArray 'CalibJet_isCRHLTJet' at 7fa60414e4a8>, 'CalibJet_indexLLP': <LazyArray 'CalibJet_indexLLP' at 7fa60414e4e0>, 'CalibJet_nTrk': <LazyArray 'CalibJet_nTrk' at 7fa60414e518>, 'CalibJet_sumTrkpT': <LazyArray 'CalibJet_sumTrkpT' at 7fa60414e550>, 'CalibJet_maxTrkpT': <LazyArray 'CalibJet_maxTrkpT' at 7fa60414e588>, 'CalibJet_minDRTrkpt2': <LazyArray 'CalibJet_minDRTrkpt2' at 7fa60414e5c0>, 'CalibJet_BIBDeltaTimingM': <LazyArray 'CalibJet_BIBDeltaTimingM' at 7fa60414e5f8>, 'CalibJet_BIBDeltaTimingP': <LazyArray 'CalibJet_BIBDeltaTimingP' at 7fa60414e630>, 'CalibJet_cluster_nClusters': <LazyArray 'CalibJet_cluster_nClusters' at 7fa60414e668>, 'CalibJet_cluster_lead_center': <LazyArray 'CalibJet_cluster_lead_center' at 7fa60414e6a0>, 'CalibJet_cluster_lead_z': <LazyArray 'CalibJet_cluster_lead_z' at 7fa60414e6d8>, 'CalibJet_cluster_lead_r': <LazyArray 'CalibJet_cluster_lead_r' at 7fa60414e710>, 'CalibJet_cluster_lead_Lxy': <LazyArray 'CalibJet_cluster_lead_Lxy' at 7fa60414e748>, 'CalibJet_cluster_lead_pT': <LazyArray 'CalibJet_cluster_lead_pT' at 7fa60414e780>, 'CalibJet_cluster_lead_eta': <LazyArray 'CalibJet_cluster_lead_eta' at 7fa60414e7b8>, 'CalibJet_cluster_lead_phi': <LazyArray 'CalibJet_cluster_lead_phi' at 7fa60414e7f0>, 'CalibJet_cluster_lead_time': <LazyArray 'CalibJet_cluster_lead_time' at 7fa60414e828>, 'CalibJet_cluster_lead_lambda': <LazyArray 'CalibJet_cluster_lead_lambda' at 7fa60414e860>, 'CalibJet_cluster_lead_lateral': <LazyArray 'CalibJet_cluster_lead_lateral' at 7fa60414e898>, 'CalibJet_cluster_lead_longitudinal': <LazyArray 'CalibJet_cluster_lead_longitudinal' at 7fa60414e8d0>, 'CalibJet_cluster_lead_first_Eden': <LazyArray 'CalibJet_cluster_lead_first_Eden' at 7fa60414e908>, 'CalibJet_Reg_Lxy': <LazyArray 'CalibJet_Reg_Lxy' at 7fa60414e940>, 'CalibJet_Reg_Lz': <LazyArray 'CalibJet_Reg_Lz' at 7fa60414e978>, 'CalibJet_f_EH_layer0_cenbar': <LazyArray 'CalibJet_f_EH_layer0_cenbar' at 7fa60414e9b0>, 'CalibJet_f_EH_layer1_cenbar': <LazyArray 'CalibJet_f_EH_layer1_cenbar' at 7fa60414e9e8>, 'CalibJet_f_EH_layer2_cenbar': <LazyArray 'CalibJet_f_EH_layer2_cenbar' at 7fa60414ea20>, 'CalibJet_f_EH_layer1_tilegap': <LazyArray 'CalibJet_f_EH_layer1_tilegap' at 7fa60414ea58>, 'CalibJet_f_EH_layer2_tilegap': <LazyArray 'CalibJet_f_EH_layer2_tilegap' at 7fa60414ea90>, 'CalibJet_f_EH_layer3_tilegap': <LazyArray 'CalibJet_f_EH_layer3_tilegap' at 7fa60414eac8>, 'CalibJet_f_EH_layer0_extbar': <LazyArray 'CalibJet_f_EH_layer0_extbar' at 7fa60414eb00>, 'CalibJet_f_EH_layer1_extbar': <LazyArray 'CalibJet_f_EH_layer1_extbar' at 7fa60414eb38>, 'CalibJet_f_EH_layer2_extbar': <LazyArray 'CalibJet_f_EH_layer2_extbar' at 7fa60414eb70>, 'CalibJet_f_EH_layer0_end': <LazyArray 'CalibJet_f_EH_layer0_end' at 7fa60414eba8>, 'CalibJet_f_EH_layer1_end': <LazyArray 'CalibJet_f_EH_layer1_end' at 7fa60414ebe0>, 'CalibJet_f_EH_layer2_end': <LazyArray 'CalibJet_f_EH_layer2_end' at 7fa60414ec18>, 'CalibJet_f_EH_layer3_end': <LazyArray 'CalibJet_f_EH_layer3_end' at 7fa60414ec50>, 'CalibJet_f_EEM_layer0_bar': <LazyArray 'CalibJet_f_EEM_layer0_bar' at 7fa60414ec88>, 'CalibJet_f_EEM_layer1_bar': <LazyArray 'CalibJet_f_EEM_layer1_bar' at 7fa60414ecc0>, 'CalibJet_f_EEM_layer2_bar': <LazyArray 'CalibJet_f_EEM_layer2_bar' at 7fa60414ecf8>, 'CalibJet_f_EEM_layer3_bar': <LazyArray 'CalibJet_f_EEM_layer3_bar' at 7fa60414ed30>, 'CalibJet_f_EEM_layer0_end': <LazyArray 'CalibJet_f_EEM_layer0_end' at 7fa60414ed68>, 'CalibJet_f_EEM_layer1_end': <LazyArray 'CalibJet_f_EEM_layer1_end' at 7fa60414eda0>, 'CalibJet_f_EEM_layer2_end': <LazyArray 'CalibJet_f_EEM_layer2_end' at 7fa60414edd8>, 'CalibJet_f_EEM_layer3_end': <LazyArray 'CalibJet_f_EEM_layer3_end' at 7fa60414ee10>, 'CalibJet_f_EH_l1frac': <LazyArray 'CalibJet_f_EH_l1frac' at 7fa60414ee48>, 'CalibJet_Lxy': <LazyArray 'CalibJet_Lxy' at 7fa60414ee80>, 'CalibJet_Lz': <LazyArray 'CalibJet_Lz' at 7fa60414eeb8>, 'CR_HLT_TAU60': <LazyArray 'CR_HLT_TAU60' at 7fa60414eef0>, 'CR_HLT_LLPNOMATCH': <LazyArray 'CR_HLT_LLPNOMATCH' at 7fa60414ef28>, 'CR_HLT_bibalgo': <LazyArray 'CR_HLT_bibalgo' at 7fa60414ef60>, 'CR_HLT_pT': <LazyArray 'CR_HLT_pT' at 7fa60414ef98>, 'CR_HLT_eta': <LazyArray 'CR_HLT_eta' at 7fa60414efd0>, 'CR_HLT_phi': <LazyArray 'CR_HLT_phi' at 7fa604157048>, 'CR_HLT_logR': <LazyArray 'CR_HLT_logR' at 7fa604157080>, 'CR_HLT_minDR_HLTtracks': <LazyArray 'CR_HLT_minDR_HLTtracks' at 7fa6041570b8>, 'CR_HLT_matchOff': <LazyArray 'CR_HLT_matchOff' at 7fa6041570f0>, 'CR_HLT_Timing': <LazyArray 'CR_HLT_Timing' at 7fa604157128>, 'CR_HLT_LLP_Lxy': <LazyArray 'CR_HLT_LLP_Lxy' at 7fa604157160>, 'CR_HLT_LLP_Lz': <LazyArray 'CR_HLT_LLP_Lz' at 7fa604157198>, 'LLP_E': <LazyArray 'LLP_E' at 7fa604157208>, 'LLP_pT': <LazyArray 'LLP_pT' at 7fa604157278>, 'LLP_eta': <LazyArray 'LLP_eta' at 7fa6041572e8>, 'LLP_phi': <LazyArray 'LLP_phi' at 7fa604157358>, 'LLP_beta': <LazyArray 'LLP_beta' at 7fa604157390>, 'LLP_timing': <LazyArray 'LLP_timing' at 7fa6041573c8>, 'LLP_Lxy': <LazyArray 'LLP_Lxy' at 7fa604157438>, 'LLP_Lz': <LazyArray 'LLP_Lz' at 7fa6041574a8>, 'LLP_dR_Jet': <LazyArray 'LLP_dR_Jet' at 7fa6041574e0>, 'LLP_dR_2nd_Jet': <LazyArray 'LLP_dR_2nd_Jet' at 7fa604157518>, 'LLP_ind_1st_Jet': <LazyArray 'LLP_ind_1st_Jet' at 7fa604157550>, 'LLP_ind_2nd_Jet': <LazyArray 'LLP_ind_2nd_Jet' at 7fa604157588>, 'LLP_dR_pairJets': <LazyArray 'LLP_dR_pairJets' at 7fa6041575c0>, 'LLP_M_pairJets': <LazyArray 'LLP_M_pairJets' at 7fa6041575f8>, 'TruthParticle_pdgid': <LazyArray 'TruthParticle_pdgid' at 7fa604157630>, 'TruthParticle_E': <LazyArray 'TruthParticle_E' at 7fa604157668>, 'TruthParticle_pT': <LazyArray 'TruthParticle_pT' at 7fa6041576a0>, 'TruthParticle_eta': <LazyArray 'TruthParticle_eta' at 7fa6041576d8>, 'TruthParticle_phi': <LazyArray 'TruthParticle_phi' at 7fa604157710>, 'TruthParticle_beta': <LazyArray 'TruthParticle_beta' at 7fa604157748>, 'TruthParticle_gamma': <LazyArray 'TruthParticle_gamma' at 7fa604157780>, 'event_truth_Meff': <LazyArray 'event_truth_Meff' at 7fa6041577b8>, 'event_truth_dPhiLLPs': <LazyArray 'event_truth_dPhiLLPs' at 7fa6041577f0>, 'event_truth_dRLLPs': <LazyArray 'event_truth_dRLLPs' at 7fa604157828>}\n",
      "CPU times: user 111 ms, sys: 9.02 ms, total: 120 ms\n",
      "Wall time: 121 ms\n"
     ]
    }
   ],
   "source": [
    "%%time\n",
    "import awkward\n",
    "import uproot\n",
    "input_file = uproot.open('/LLPData/Outputs/CalRatio_ntuples2016dataAnalysis_paperVersion/signal_HSS_LLP_mH125_mS25_lt9m_ntuples2016dataAnalysis_paperVersion.root')\n",
    "base_awkward_array = input_file[input_file.keys()[0]].lazyarrays(namedecode='utf-8')\n",
    "print(base_awkward_array)"
   ]
  },
  {
   "cell_type": "code",
   "execution_count": 2,
   "metadata": {},
   "outputs": [],
   "source": [
    "import sys\n",
    "sys.path.append('..')\n",
    "from clientlib.DataSets import ArrayDataSet\n",
    "real_awkward_dataset = ArrayDataSet('/LLPData/Outputs/CalRatio_ntuples2016dataAnalysis_paperVersion/signal_HSS_LLP_mH125_mS25_lt9m_ntuples2016dataAnalysis_paperVersion.root')\n",
    "real_awkward_array_stream = real_awkward_dataset.AsAwkwardArray()"
   ]
  },
  {
   "cell_type": "code",
   "execution_count": 3,
   "metadata": {},
   "outputs": [],
   "source": [
    "real_awkward_query = real_awkward_array_stream.Select('lambda e: (e.CalibJet_E, e.CalibJet_pT, e.CalibJet_eta, e.CalibJet_phi)')"
   ]
  },
  {
   "cell_type": "code",
   "execution_count": 4,
   "metadata": {},
   "outputs": [
    {
     "name": "stdout",
     "output_type": "stream",
     "text": [
      "CPU times: user 25.8 ms, sys: 15 ms, total: 40.9 ms\n",
      "Wall time: 5.11 s\n"
     ]
    }
   ],
   "source": [
    "%time output_array = real_awkward_query.value()"
   ]
  },
  {
   "cell_type": "code",
   "execution_count": 5,
   "metadata": {},
   "outputs": [
    {
     "data": {
      "text/plain": [
       "120000"
      ]
     },
     "execution_count": 5,
     "metadata": {},
     "output_type": "execute_result"
    }
   ],
   "source": [
    "output_array[0].size"
   ]
  },
  {
   "cell_type": "code",
   "execution_count": 6,
   "metadata": {},
   "outputs": [],
   "source": [
    "from math import asinh, atan2, hypot, pi, isinf, cosh, cos, sin, sinh, sqrt\n",
    "\n",
    "def get_eta_from_pT_and_pz(pT, pz):\n",
    "    if pT != 0:\n",
    "        return asinh(pz / pT)\n",
    "    elif pz == 0:\n",
    "        return 0\n",
    "    else:\n",
    "        return float('infinity') * pz\n",
    "\n",
    "class ThreeMomentum:\n",
    "    def __init__(self, px, py, pz):\n",
    "        self._px = px\n",
    "        self._py = py\n",
    "        self._pz = pz\n",
    "        \n",
    "    def __str__(self):\n",
    "        return ('(' + str(self._px) + ', '\n",
    "                    + str(self._py) + ', '\n",
    "                    + str(self._pz) + ')')\n",
    "    \n",
    "    def px(self):\n",
    "        return self._px\n",
    "    \n",
    "    def py(self):\n",
    "        return self._py\n",
    "    \n",
    "    def pz(self):\n",
    "        return self._pz\n",
    "    \n",
    "    def pT(self):\n",
    "        return hypot(self._px, self._py)\n",
    "\n",
    "    def eta(self):\n",
    "        return get_eta_from_pT_and_pz(self.pT(), self._pz)\n",
    "    \n",
    "    def phi(self):\n",
    "        return atan2(self._py, self._px)\n",
    "        \n",
    "    def __add__(self, other):\n",
    "        return ThreeMomentum(self._px + other._px, self._py + other._py, self._pz + other._pz)\n",
    "\n",
    "def get_smallest_radian_value(angle):\n",
    "    while angle > pi:\n",
    "        angle -= 2 * pi\n",
    "    while angle < -pi:\n",
    "         angle += 2 * pi\n",
    "    return angle\n",
    "\n",
    "class FourMomentum:\n",
    "    def __init__(self, E, pT, eta, phi):\n",
    "        if isinf(E) or E < pT or pT < 0:\n",
    "            raise ValueError()\n",
    "        if E == 0:\n",
    "            if pT != 0:\n",
    "                raise ValueError()\n",
    "            self._E = E\n",
    "            self._pT = pT\n",
    "            self._eta = float('nan')\n",
    "            self._phi = float('nan')\n",
    "        elif pT == 0:\n",
    "            if not isinf(eta):\n",
    "                raise ValueError()\n",
    "            self._E = E\n",
    "            self._pT = pT\n",
    "            self._eta = eta\n",
    "            self._phi = float('nan')\n",
    "        else:\n",
    "            if isinf(eta) or isinf(phi):\n",
    "                raise ValueError()\n",
    "            if (pT * cosh(eta)) / E > 1.001:\n",
    "                raise ValueError()\n",
    "            self._E = E\n",
    "            self._pT = pT\n",
    "            self._eta = eta\n",
    "            self._phi = get_smallest_radian_value(phi)\n",
    "            \n",
    "    @classmethod\n",
    "    def from_E_and_p3(cls, E, p3):\n",
    "        return cls(E, p3.pT(), p3.eta(), p3.phi())\n",
    "            \n",
    "    def __str__(self):\n",
    "        return (  'E = '   + str(self._E)   + ', '\n",
    "                + 'pT = '  + str(self._pT)  + ', '\n",
    "                + 'eta = ' + str(self._eta) + ', '\n",
    "                + 'phi = ' + str(self._phi))\n",
    "        \n",
    "    def px(self):\n",
    "        if self._pT == 0:\n",
    "            return 0\n",
    "        else:\n",
    "            return self._pT * cos(self._phi)\n",
    "    \n",
    "    def py(self):\n",
    "        if self._pT == 0:\n",
    "            return 0\n",
    "        else:\n",
    "            return self._pT * sin(self._phi)\n",
    "    \n",
    "    def pz(self):\n",
    "        if isinf(self._eta):\n",
    "            raise NotImplementedError('Unable to calculate pz if pT = 0')\n",
    "        else:\n",
    "            return self._pT * sinh(self._eta)\n",
    "        \n",
    "    def eta(self):\n",
    "        return self._eta\n",
    "    \n",
    "    def phi(self):\n",
    "        return self._phi\n",
    "\n",
    "    def p3(self):\n",
    "        return ThreeMomentum(self.px(), self.py(), self.pz())\n",
    "    \n",
    "    def __add__(self, other):\n",
    "        new_E = self._E + other._E\n",
    "        new_p3 = self.p3() + other.p3()\n",
    "        return self.from_E_and_p3(new_E, new_p3)\n",
    "        \n",
    "    def p3_squared(self):\n",
    "        return self.px() ** 2 + self.py() ** 2 + self.pz() ** 2\n",
    "        \n",
    "    def p3_magnitude(self):\n",
    "        return sqrt(self.p3_squared())\n",
    "    \n",
    "    def m(self):\n",
    "        return sqrt(self._E ** 2 - self.p3_squared())\n",
    "        \n",
    "def deltaEta(v1, v2):\n",
    "    return v2.eta() - v1.eta()\n",
    "\n",
    "def deltaPhi(v1, v2):\n",
    "    return get_smallest_radian_value(v2.phi() - v1.phi())\n",
    "\n",
    "def deltaR(v1, v2):\n",
    "    return hypot(deltaEta(v1, v2), deltaPhi(v1, v2))"
   ]
  },
  {
   "cell_type": "code",
   "execution_count": 8,
   "metadata": {},
   "outputs": [
    {
     "name": "stdout",
     "output_type": "stream",
     "text": [
      "E = 209.45963567695793, pT = 85.585328125, eta = -1.5411477088928223, phi = 1.5399823188781738\n",
      "E = 50.8569008621466, pT = 30.156796875, eta = 1.1030752658843994, phi = -1.7798477411270142\n",
      "E = 38.23670360942477, pT = 27.329365234375, eta = -0.8471185564994812, phi = 1.7790178060531616\n",
      "E = 23.43329205292181, pT = 22.639572265625, eta = -0.12941420078277588, phi = 0.2987922728061676\n",
      "E = 34.08531686173584, pT = 21.113765625, eta = 1.0522892475128174, phi = 2.3908755779266357\n",
      "E = 21.40224822199898, pT = 19.114765625, eta = -0.43428581953048706, phi = 1.3274266719818115\n",
      "E = 18.774834928534673, pT = 17.340818359375, eta = -0.35882750153541565, phi = -2.048685312271118\n",
      "E = 17.40520495450177, pT = 16.1868828125, eta = 0.33463695645332336, phi = -1.041507601737976\n",
      "E = 112.48712674839861, pT = 14.7517900390625, eta = 2.7202939987182617, phi = -1.0640367269515991\n",
      "E = 117.02456782852232, pT = 113.56140625, eta = 0.2306176722049713, phi = 0.5579949021339417\n",
      "E = 44.1294887862493, pT = 43.05083984375, eta = 0.027481315657496452, phi = 2.814674139022827\n",
      "E = 46.16908145502568, pT = 30.07937109375, eta = 0.9754987359046936, phi = -2.7184512615203857\n",
      "E = 46.35018277963181, pT = 28.258328125, eta = 1.0631215572357178, phi = -1.9206396341323853\n",
      "E = 42.83805800166712, pT = 26.24445703125, eta = -1.0563093423843384, phi = -1.1206122636795044\n",
      "E = 21.72736432626004, pT = 20.376142578125, eta = -0.2846141755580902, phi = -2.4833390712738037\n",
      "E = 26.010146358428045, pT = 20.091646484375, eta = 0.7269856929779053, phi = 1.793931007385254\n",
      "E = 22.096941297520168, pT = 19.144345703125, eta = 0.5103850364685059, phi = -1.9659878015518188\n",
      "E = 782.6704830575734, pT = 17.670552734375, eta = 4.483821392059326, phi = -1.3517711162567139\n",
      "E = 317.13941773354424, pT = 17.541751953125, eta = -3.587099552154541, phi = 2.174044370651245\n",
      "E = 87.572532044441, pT = 36.63943359375, eta = 1.513201355934143, phi = -0.04158579558134079\n",
      "E = 56.44122279244004, pT = 19.76434765625, eta = -1.707539677619934, phi = 2.2226243019104004\n",
      "E = 21.842351549104897, pT = 19.65466015625, eta = -0.4160313606262207, phi = -1.11860191822052\n",
      "E = 18.430539263371966, pT = 16.779048828125, eta = -0.4202735424041748, phi = 1.7714142799377441\n",
      "E = 81.31438687190379, pT = 14.86978125, eta = -2.383314371109009, phi = 2.012463331222534\n",
      "E = 186.25644156181153, pT = 32.034306640625, eta = -2.4458858966827393, phi = 0.28735414147377014\n",
      "E = 54.95090994659037, pT = 28.328580078125, eta = -1.2774237394332886, phi = 1.496612787246704\n",
      "E = 38.63291982857991, pT = 23.222271484375, eta = 1.0887986421585083, phi = -2.0414226055145264\n",
      "E = 29.848190564046064, pT = 19.852890625, eta = -0.9540517926216125, phi = -2.044121265411377\n",
      "E = 205.5910777703432, pT = 17.4065625, eta = 3.1603453159332275, phi = 3.1221892833709717\n",
      "E = 123.26836134963156, pT = 28.31069140625, eta = 2.1500256061553955, phi = 1.768844723701477\n",
      "E = 113.76198864433293, pT = 26.932630859375, eta = -2.1193971633911133, phi = -2.8453266620635986\n",
      "E = 92.00637798584539, pT = 16.710876953125, eta = 2.3901357650756836, phi = -0.7069800496101379\n",
      "E = 244.2128987085094, pT = 98.1026328125, eta = -1.561707615852356, phi = 0.8607574105262756\n",
      "E = 103.16845939318087, pT = 66.7202421875, eta = 0.9919321537017822, phi = -2.9294795989990234\n",
      "E = 34.14074133720881, pT = 30.26231640625, eta = -0.48134151101112366, phi = -0.4773924946784973\n",
      "E = 30.624146897473608, pT = 28.4829609375, eta = -0.33791765570640564, phi = -1.244651436805725\n",
      "E = 56.115132367335185, pT = 24.2603359375, eta = -1.4753824472427368, phi = 2.2085201740264893\n",
      "E = 25.290801551568904, pT = 24.065, eta = 0.2619330585002899, phi = -3.078556776046753\n",
      "E = 29.72472865590428, pT = 22.33677734375, eta = 0.7770193815231323, phi = 2.7862823009490967\n",
      "E = 89.1308924333945, pT = 20.57437890625, eta = -2.1441097259521484, phi = -0.32489022612571716\n",
      "E = 695.05798575038, pT = 16.2880869140625, eta = -4.44655704498291, phi = -0.30407705903053284\n",
      "E = 481.40047809695255, pT = 14.3092744140625, eta = 4.2087178230285645, phi = -2.4456520080566406\n",
      "E = 1544.9875317628032, pT = 153.19796875, eta = 3.001664876937866, phi = 3.1110072135925293\n",
      "E = 215.23262701928235, pT = 115.366734375, eta = -1.2284804582595825, phi = -1.1075934171676636\n",
      "E = 85.56125554276538, pT = 80.517640625, eta = 0.32115328311920166, phi = 0.1411161571741104\n",
      "E = 37.01214166864349, pT = 36.17841796875, eta = 0.1163535863161087, phi = -1.155615210533142\n",
      "E = 50.10978282322709, pT = 31.93109765625, eta = -1.007880449295044, phi = -0.10902716219425201\n",
      "E = 35.00129820369759, pT = 26.40701171875, eta = -0.7572535872459412, phi = 1.7596763372421265\n",
      "E = 51.48837344202429, pT = 25.8242734375, eta = 1.3031171560287476, phi = 1.974607229232788\n",
      "E = 71.23725270848794, pT = 23.045904296875, eta = 1.7922221422195435, phi = 2.895205020904541\n",
      "E = 40.899657500479016, pT = 22.039154296875, eta = 1.2215145826339722, phi = 2.8819150924682617\n",
      "E = 70.92752496886968, pT = 20.60596875, eta = -1.905745267868042, phi = -3.025251626968384\n",
      "E = 60.159841959579516, pT = 19.575732421875, eta = -1.786049246788025, phi = -1.5380066633224487\n",
      "E = 18.747775405563196, pT = 17.5011640625, eta = -0.3099225163459778, phi = 0.48104938864707947\n",
      "E = 296.38898226284414, pT = 104.281109375, eta = -1.705030083656311, phi = -2.3810484409332275\n",
      "E = 289.67116860963864, pT = 101.7211171875, eta = -1.7067928314208984, phi = 1.3707928657531738\n",
      "E = 113.39544139072443, pT = 26.154830078125, eta = 2.1459896564483643, phi = -1.0010912418365479\n",
      "E = 29.9728102408449, pT = 24.61423828125, eta = 0.6249880790710449, phi = 2.0782392024993896\n",
      "E = 127.22400062405741, pT = 23.51174609375, eta = -2.3725831508636475, phi = -1.899307131767273\n",
      "E = 161.19129865703584, pT = 20.980416015625, eta = 2.7278871536254883, phi = -0.01631787046790123\n",
      "E = 717.844294089477, pT = 20.75125390625, eta = 4.236584186553955, phi = 2.584717035293579\n",
      "E = 24.778204909098168, pT = 19.770830078125, eta = 0.6860620975494385, phi = 1.6260066032409668\n",
      "E = 937.3881806752908, pT = 17.323638671875, eta = 4.68408727645874, phi = 2.4291536808013916\n",
      "E = 65.94081712928673, pT = 14.7963994140625, eta = -2.173323392868042, phi = -0.47359398007392883\n",
      "E = 74.53608506571938, pT = 24.7671875, eta = 1.7648030519485474, phi = 2.0340027809143066\n",
      "E = 46.880227707093084, pT = 23.301943359375, eta = 1.314448356628418, phi = 1.159783959388733\n",
      "E = 27.152978829054675, pT = 21.559900390625, eta = 0.6923199892044067, phi = 2.288240671157837\n",
      "E = 96.21095590349759, pT = 15.345462890625, eta = -2.521967649459839, phi = -0.6803272366523743\n",
      "E = 1181.7423084908082, pT = 120.48971875, eta = 2.973684549331665, phi = -2.6158206462860107\n",
      "E = 65.24511943122936, pT = 24.468208984375, eta = -1.6353635787963867, phi = 1.8322299718856812\n",
      "E = 21.338677660966592, pT = 19.843923828125, eta = 0.35493165254592896, phi = -1.348949909210205\n",
      "E = 32.81597106480246, pT = 19.51948046875, eta = 1.1013473272323608, phi = -1.5844082832336426\n",
      "E = 33.56806027825308, pT = 18.87373046875, eta = -1.1757698059082031, phi = 1.581954002380371\n",
      "E = 26.539138399546854, pT = 25.3602890625, eta = 0.2437271624803543, phi = -1.668628454208374\n",
      "E = 32.88370919861187, pT = 21.944826171875, eta = 0.949272871017456, phi = -3.098992109298706\n",
      "E = 24.029216321182826, pT = 18.8105546875, eta = 0.7042732238769531, phi = 1.7896627187728882\n",
      "E = 100.82814147835155, pT = 33.1300078125, eta = -1.7756853103637695, phi = 3.0137996673583984\n",
      "E = 57.409933673565895, pT = 30.01189453125, eta = -1.257792592048645, phi = 2.876239538192749\n",
      "E = 34.54395363056538, pT = 24.152875, eta = 0.8808850049972534, phi = 1.5731419324874878\n",
      "E = 22.231493905721102, pT = 21.35998828125, eta = 0.1660168170928955, phi = 2.4459242820739746\n",
      "E = 20.774620248219342, pT = 20.209640625, eta = 0.10997188091278076, phi = -3.0483572483062744\n",
      "E = 472.09302249549944, pT = 18.84580859375, eta = 3.9136056900024414, phi = -0.8913589119911194\n",
      "E = 364.6550205562072, pT = 17.277076171875, eta = 3.7421088218688965, phi = 1.8261150121688843\n",
      "E = 19.478476075421433, pT = 16.93009375, eta = -0.4873647391796112, phi = -2.233231782913208\n",
      "E = 17.82103077734721, pT = 16.225171875, eta = -0.3762516379356384, phi = 2.925183057785034\n",
      "E = 99.92262905667509, pT = 15.1680537109375, eta = -2.572249174118042, phi = -3.0756356716156006\n",
      "E = 68.90336974324953, pT = 66.5266796875, eta = -0.25901058316230774, phi = -0.8104339241981506\n",
      "E = 111.95707796225246, pT = 41.27134375, eta = -1.652539610862732, phi = 2.4573421478271484\n",
      "E = 37.258787127069574, pT = 27.615552734375, eta = 0.7899102568626404, phi = 2.9170360565185547\n",
      "E = 908.0000339486791, pT = 17.49910546875, eta = 4.642143249511719, phi = 0.9862197637557983\n",
      "E = 53.41291559181876, pT = 12.5000888671875, eta = 2.1308023929595947, phi = -1.5709596872329712\n",
      "E = 32.912328759980085, pT = 30.2088828125, eta = 0.3798450529575348, phi = -1.3980414867401123\n",
      "E = 35.83587184936144, pT = 22.278240234375, eta = 1.0497232675552368, phi = -1.6544743776321411\n",
      "E = 386.9655199896435, pT = 16.603353515625, eta = -3.8414175510406494, phi = 0.8869448900222778\n",
      "E = 95.92559780716049, pT = 68.388625, eta = 0.8677955269813538, phi = 1.8512938022613525\n",
      "E = 86.55411010073638, pT = 50.3557734375, eta = 1.1343501806259155, phi = -0.8451963067054749\n",
      "E = 30.03282734927913, pT = 28.25448046875, eta = 0.3224734961986542, phi = -1.0569390058517456\n",
      "E = 135.12225648002592, pT = 46.88116015625, eta = 1.7171053886413574, phi = -0.6023899912834167\n",
      "E = 49.67343709437852, pT = 27.941962890625, eta = -1.168136715888977, phi = -2.766505479812622\n",
      "E = 80.27041758886473, pT = 22.817443359375, eta = 1.9287232160568237, phi = 0.0668194517493248\n"
     ]
    },
    {
     "data": {
      "image/png": "[encoded data removed]",
      "text/plain": [
       "<Figure size 432x288 with 1 Axes>"
      ]
     },
     "metadata": {
      "needs_background": "light"
     },
     "output_type": "display_data"
    },
    {
     "data": {
      "image/png": "[encoded data removed]",
      "text/plain": [
       "<Figure size 432x288 with 1 Axes>"
      ]
     },
     "metadata": {
      "needs_background": "light"
     },
     "output_type": "display_data"
    },
    {
     "data": {
      "image/png": "[encoded data removed]",
      "text/plain": [
       "<Figure size 432x288 with 1 Axes>"
      ]
     },
     "metadata": {
      "needs_background": "light"
     },
     "output_type": "display_data"
    },
    {
     "data": {
      "image/png": "[encoded data removed]",
      "text/plain": [
       "<Figure size 432x288 with 1 Axes>"
      ]
     },
     "metadata": {
      "needs_background": "light"
     },
     "output_type": "display_data"
    }
   ],
   "source": [
    "import matplotlib.pyplot as plt\n",
    "n = 0\n",
    "for event_arrays in zip(output_array[0], output_array[1], output_array[2], output_array[3]):\n",
    "    for jet_properties_tuple in zip(event_arrays[0], event_arrays[1], event_arrays[2], event_arrays[3]):\n",
    "        E = jet_properties_tuple[0]\n",
    "        pT = jet_properties_tuple[1]\n",
    "        eta = jet_properties_tuple[2]\n",
    "        phi = jet_properties_tuple[3]\n",
    "        p4 = FourMomentum(E, pT, eta, phi)\n",
    "        if n < 100:\n",
    "            print(p4)\n",
    "        n += 1\n",
    "\n",
    "plt.hist(output_array[0].flatten(), 100, (0,1000))\n",
    "plt.title('E')\n",
    "plt.xlabel('Jet energy (GeV)')\n",
    "plt.ylabel('Number of events')\n",
    "plt.show()\n",
    "\n",
    "plt.hist(output_array[1].flatten(), 100, (0,1000))\n",
    "plt.title('pT')\n",
    "plt.xlabel('Jet pT (GeV)')\n",
    "plt.ylabel('Number of events')\n",
    "plt.show()\n",
    "\n",
    "plt.hist(output_array[2].flatten(), 100, (-5,5))\n",
    "plt.title('Eta')\n",
    "plt.xlabel('Jet eta')\n",
    "plt.ylabel('Number of events')\n",
    "plt.show()\n",
    "\n",
    "plt.hist(output_array[3].flatten(), 100, (-pi,pi))\n",
    "plt.title('Phi')\n",
    "plt.xlabel('Jet phi (rad)')\n",
    "plt.ylabel('Number of events')\n",
    "plt.show()"
   ]
  },
  {
   "cell_type": "code",
   "execution_count": null,
   "metadata": {},
   "outputs": [],
   "source": []
  }
 ],
 "metadata": {
  "kernelspec": {
   "display_name": "Python 3",
   "language": "python",
   "name": "python3"
  },
  "language_info": {
   "codemirror_mode": {
    "name": "ipython",
    "version": 3
   },
   "file_extension": ".py",
   "mimetype": "text/x-python",
   "name": "python",
   "nbconvert_exporter": "python",
   "pygments_lexer": "ipython3",
   "version": "3.7.3"
  }
 },
 "nbformat": 4,
 "nbformat_minor": 2
}
