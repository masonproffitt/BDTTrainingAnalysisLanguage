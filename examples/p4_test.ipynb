{
 "cells": [
  {
   "cell_type": "markdown",
   "metadata": {},
   "source": [
    "# Four-momentum tests\n",
    "\n",
    "In these examples, we get out the information from an ntuple needed to reconstruct the momentum of jets and LLPs."
   ]
  },
  {
   "cell_type": "markdown",
   "metadata": {},
   "source": [
    "### Ntuple column names\n",
    "First, just print out all the TBranch names in the ROOT file, so we can see what we have to work with."
   ]
  },
  {
   "cell_type": "code",
   "execution_count": 1,
   "metadata": {
    "scrolled": false
   },
   "outputs": [
    {
     "name": "stdout",
     "output_type": "stream",
     "text": [
      "eventNumber\n",
      "eventCount\n",
      "runNumber\n",
      "lumiBlock\n",
      "backgroundFlags\n",
      "eventWeight\n",
      "pdfEventWeights\n",
      "pileupEventWeight\n",
      "xSecEventWeight\n",
      "actualIntPerCrossing\n",
      "averageIntPerCrossing\n",
      "event_NCleanJets\n",
      "event_NJets\n",
      "event_HT\n",
      "event_MHToHT\n",
      "event_HTMiss\n",
      "event_Meff\n",
      "event_sumMinDR\n",
      "METCST_met\n",
      "METTST_met\n",
      "event_tauRoI_maxET\n",
      "event_passL1TAU60\n",
      "event_passL1LLPNOMATCH\n",
      "event_passEmulationL1LLPNOMATCH\n",
      "event_passL1LLPRO\n",
      "event_passCalRatio_cleanLLP_TAU60\n",
      "event_passCalRatio_cleanLLP_TAU60_noiso\n",
      "event_passCalRatio_cleanLLP_LLPNOMATCH\n",
      "event_passCalRatio_cleanLLP_LLPNOMATCH_noiso\n",
      "event_passEmulationCalRatio_cleanLLP_LLPNOMATCH_noiso\n",
      "event_passJ320_bperf_split\n",
      "dPhiLeadBDTsignalWeight_cleanJet\n",
      "dRLeadBDTsignalWeight_cleanJet\n",
      "dPhiLeadBDTmultijetsWeight_cleanJet\n",
      "dRLeadBDTmultijetsWeight_cleanJet\n",
      "dPhiLeadBDTbibWeight_cleanJet\n",
      "dRLeadBDTbibWeight_cleanJet\n",
      "event_BDTtau60\n",
      "event_BDTllpnm\n",
      "BDT3weights_signal_cleanJet_index\n",
      "BDT3weights_multijets_cleanJet_index\n",
      "BDT3weights_bib_cleanJet_index\n",
      "CalibJet_isGoodStand\n",
      "CalibJet_isGoodLLP\n",
      "CalibJet_E\n",
      "CalibJet_E_EMScale\n",
      "CalibJet_ET\n",
      "CalibJet_pT\n",
      "CalibJet_eta\n",
      "CalibJet_phi\n",
      "CalibJet_width\n",
      "CalibJet_logRatio\n",
      "CalibJet_time\n",
      "CalibJet_BDT3weights_signal\n",
      "CalibJet_BDT3weights_multijets\n",
      "CalibJet_BDT3weights_bib\n",
      "CalibJet_isCRHLTJet\n",
      "CalibJet_indexLLP\n",
      "CalibJet_nTrk\n",
      "CalibJet_sumTrkpT\n",
      "CalibJet_maxTrkpT\n",
      "CalibJet_minDRTrkpt2\n",
      "CalibJet_BIBDeltaTimingM\n",
      "CalibJet_BIBDeltaTimingP\n",
      "CalibJet_cluster_nClusters\n",
      "CalibJet_cluster_lead_center\n",
      "CalibJet_cluster_lead_z\n",
      "CalibJet_cluster_lead_r\n",
      "CalibJet_cluster_lead_Lxy\n",
      "CalibJet_cluster_lead_pT\n",
      "CalibJet_cluster_lead_eta\n",
      "CalibJet_cluster_lead_phi\n",
      "CalibJet_cluster_lead_time\n",
      "CalibJet_cluster_lead_lambda\n",
      "CalibJet_cluster_lead_lateral\n",
      "CalibJet_cluster_lead_longitudinal\n",
      "CalibJet_cluster_lead_first_Eden\n",
      "CalibJet_Reg_Lxy\n",
      "CalibJet_Reg_Lz\n",
      "CalibJet_f_EH_layer0_cenbar\n",
      "CalibJet_f_EH_layer1_cenbar\n",
      "CalibJet_f_EH_layer2_cenbar\n",
      "CalibJet_f_EH_layer1_tilegap\n",
      "CalibJet_f_EH_layer2_tilegap\n",
      "CalibJet_f_EH_layer3_tilegap\n",
      "CalibJet_f_EH_layer0_extbar\n",
      "CalibJet_f_EH_layer1_extbar\n",
      "CalibJet_f_EH_layer2_extbar\n",
      "CalibJet_f_EH_layer0_end\n",
      "CalibJet_f_EH_layer1_end\n",
      "CalibJet_f_EH_layer2_end\n",
      "CalibJet_f_EH_layer3_end\n",
      "CalibJet_f_EEM_layer0_bar\n",
      "CalibJet_f_EEM_layer1_bar\n",
      "CalibJet_f_EEM_layer2_bar\n",
      "CalibJet_f_EEM_layer3_bar\n",
      "CalibJet_f_EEM_layer0_end\n",
      "CalibJet_f_EEM_layer1_end\n",
      "CalibJet_f_EEM_layer2_end\n",
      "CalibJet_f_EEM_layer3_end\n",
      "CalibJet_f_EH_l1frac\n",
      "CalibJet_Lxy\n",
      "CalibJet_Lz\n",
      "CR_HLT_TAU60\n",
      "CR_HLT_LLPNOMATCH\n",
      "CR_HLT_bibalgo\n",
      "CR_HLT_pT\n",
      "CR_HLT_eta\n",
      "CR_HLT_phi\n",
      "CR_HLT_logR\n",
      "CR_HLT_minDR_HLTtracks\n",
      "CR_HLT_matchOff\n",
      "CR_HLT_Timing\n",
      "CR_HLT_LLP_Lxy\n",
      "CR_HLT_LLP_Lz\n",
      "LLP_E\n",
      "LLP_pT\n",
      "LLP_eta\n",
      "LLP_phi\n",
      "LLP_beta\n",
      "LLP_timing\n",
      "LLP_Lxy\n",
      "LLP_Lz\n",
      "LLP_dR_Jet\n",
      "LLP_dR_2nd_Jet\n",
      "LLP_ind_1st_Jet\n",
      "LLP_ind_2nd_Jet\n",
      "LLP_dR_pairJets\n",
      "LLP_M_pairJets\n",
      "TruthParticle_pdgid\n",
      "TruthParticle_E\n",
      "TruthParticle_pT\n",
      "TruthParticle_eta\n",
      "TruthParticle_phi\n",
      "TruthParticle_beta\n",
      "TruthParticle_gamma\n",
      "event_truth_Meff\n",
      "event_truth_dPhiLLPs\n",
      "event_truth_dRLLPs\n"
     ]
    }
   ],
   "source": [
    "import uproot\n",
    "input_file = uproot.open('/LLPData/Outputs/CalRatio_ntuples2016dataAnalysis_paperVersion/signal_HSS_LLP_mH125_mS25_lt9m_ntuples2016dataAnalysis_paperVersion.root')\n",
    "base_awkward_array = input_file[input_file.keys()[0]].lazyarrays(namedecode='utf-8')\n",
    "for key in base_awkward_array:\n",
    "    print(key)"
   ]
  },
  {
   "cell_type": "markdown",
   "metadata": {},
   "source": [
    "### Setup\n",
    "Add the right path, import the right library, and set up the event stream."
   ]
  },
  {
   "cell_type": "code",
   "execution_count": 2,
   "metadata": {},
   "outputs": [],
   "source": [
    "import sys\n",
    "sys.path.append('..')\n",
    "from clientlib.DataSets import ArrayDataSet"
   ]
  },
  {
   "cell_type": "code",
   "execution_count": 3,
   "metadata": {},
   "outputs": [],
   "source": [
    "real_awkward_dataset = ArrayDataSet('/LLPData/Outputs/CalRatio_ntuples2016dataAnalysis_paperVersion/signal_HSS_LLP_mH125_mS25_lt9m_ntuples2016dataAnalysis_paperVersion.root')\n",
    "real_awkward_array_stream = real_awkward_dataset.AsAwkwardArray()"
   ]
  },
  {
   "cell_type": "markdown",
   "metadata": {},
   "source": [
    "## Query\n",
    "Here we actually set the query that will run on the ntuple. This will select the energy, pT, eta, and phi of every jet and every LLP."
   ]
  },
  {
   "cell_type": "code",
   "execution_count": 4,
   "metadata": {},
   "outputs": [],
   "source": [
    "real_awkward_query = real_awkward_array_stream.Select('lambda e: ((e.CalibJet_E, e.CalibJet_pT, e.CalibJet_eta, e.CalibJet_phi), (e.LLP_E, e.LLP_pT, e.LLP_eta, e.LLP_phi))')"
   ]
  },
  {
   "cell_type": "markdown",
   "metadata": {},
   "source": [
    "Now run the query, which should take a few seconds."
   ]
  },
  {
   "cell_type": "code",
   "execution_count": 5,
   "metadata": {},
   "outputs": [
    {
     "name": "stdout",
     "output_type": "stream",
     "text": [
      "CPU times: user 35.5 ms, sys: 19.1 ms, total: 54.7 ms\n",
      "Wall time: 7.89 s\n"
     ]
    }
   ],
   "source": [
    "%time output_array = real_awkward_query.value()"
   ]
  },
  {
   "cell_type": "markdown",
   "metadata": {},
   "source": [
    "## Custom Python implementation of four-vectors\n",
    "We need to do operations on four-vectors, like adding two together and getting invariant masses. I've written my own version of the necessary objects and operators here. This may be reinventing the wheel a bit, but there are still some issues with using `uproot-methods`'s implementation, so this will have to do for now."
   ]
  },
  {
   "cell_type": "code",
   "execution_count": 6,
   "metadata": {},
   "outputs": [],
   "source": [
    "from numpy import arcsinh, arctan2, hypot, isinf, cosh, cos, sin, sinh, sqrt\n",
    "from math import pi\n",
    "\n",
    "def get_eta_from_pT_and_pz(pT, pz):\n",
    "    #if pT != 0:\n",
    "        return arcsinh(pz / pT)\n",
    "    #elif pz == 0:\n",
    "    #    return 0\n",
    "    #else:\n",
    "    #    return float('infinity') * pz\n",
    "\n",
    "class ThreeMomentum:\n",
    "    def __init__(self, px, py, pz):\n",
    "        self._px = px\n",
    "        self._py = py\n",
    "        self._pz = pz\n",
    "        \n",
    "    def __str__(self):\n",
    "        return ('(' + str(self._px) + ', '\n",
    "                    + str(self._py) + ', '\n",
    "                    + str(self._pz) + ')')\n",
    "    \n",
    "    def px(self):\n",
    "        return self._px\n",
    "    \n",
    "    def py(self):\n",
    "        return self._py\n",
    "    \n",
    "    def pz(self):\n",
    "        return self._pz\n",
    "    \n",
    "    def pT(self):\n",
    "        return hypot(self._px, self._py)\n",
    "\n",
    "    def eta(self):\n",
    "        return get_eta_from_pT_and_pz(self.pT(), self._pz)\n",
    "    \n",
    "    def phi(self):\n",
    "        return arctan2(self._py, self._px)\n",
    "        \n",
    "    def __add__(self, other):\n",
    "        return ThreeMomentum(self._px + other._px, self._py + other._py, self._pz + other._pz)\n",
    "\n",
    "def get_smallest_radian_value(angle):\n",
    "    greater_than_pi = angle > pi\n",
    "    while greater_than_pi.flatten().sum() if hasattr(greater_than_pi, \"flatten\") else greater_than_pi:\n",
    "        greater_than_pi = greater_than_pi * -2 * pi\n",
    "        angle = angle + greater_than_pi\n",
    "        greater_than_pi = angle > pi\n",
    "    less_than_negative_pi = angle < -pi\n",
    "    while less_than_negative_pi.flatten().sum() if hasattr(less_than_negative_pi, \"flatten\") else less_than_negative_pi:\n",
    "        less_than_negative_pi = less_than_negative_pi * 2 * pi\n",
    "        angle = angle + less_than_negative_pi\n",
    "        less_than_negative_pi = angle < -pi\n",
    "    #while angle > pi:\n",
    "    #    angle -= 2 * pi\n",
    "    #while angle < -pi:\n",
    "    #     angle += 2 * pi\n",
    "    return angle\n",
    "\n",
    "class FourMomentum:\n",
    "    def __init__(self, E, pT, eta, phi):\n",
    "        #if isinf(E) or E < pT or pT < 0:\n",
    "        #    raise ValueError()\n",
    "        #if E == 0:\n",
    "        #    if pT != 0:\n",
    "        #        raise ValueError()\n",
    "        #    self._E = E\n",
    "        #    self._pT = pT\n",
    "        #    self._eta = float('nan')\n",
    "        #    self._phi = float('nan')\n",
    "        #elif pT == 0:\n",
    "        #    if not isinf(eta):\n",
    "        #        raise ValueError()\n",
    "        #    self._E = E\n",
    "        #    self._pT = pT\n",
    "        #    self._eta = eta\n",
    "        #    self._phi = float('nan')\n",
    "        #else:\n",
    "        #    if isinf(eta) or isinf(phi):\n",
    "        #        raise ValueError()\n",
    "        #    if (pT * cosh(eta)) / E > 1.001:\n",
    "        #        raise ValueError()\n",
    "            self._E = E\n",
    "            self._pT = pT\n",
    "            self._eta = eta\n",
    "            self._phi = get_smallest_radian_value(phi)\n",
    "            \n",
    "    @classmethod\n",
    "    def from_E_and_p3(cls, E, p3):\n",
    "        return cls(E, p3.pT(), p3.eta(), p3.phi())\n",
    "            \n",
    "    def __str__(self):\n",
    "        return (  'E = '   + str(self._E)   + ', '\n",
    "                + 'pT = '  + str(self._pT)  + ', '\n",
    "                + 'eta = ' + str(self._eta) + ', '\n",
    "                + 'phi = ' + str(self._phi))\n",
    "        \n",
    "    def E(self):\n",
    "        return self._E\n",
    "    \n",
    "    def pT(self):\n",
    "        return self._pT\n",
    "    \n",
    "    def eta(self):\n",
    "        return self._eta\n",
    "    \n",
    "    def phi(self):\n",
    "        return self._phi\n",
    "    \n",
    "    def px(self):\n",
    "        #if self._pT == 0:\n",
    "        #    return 0\n",
    "        #else:\n",
    "            return self._pT * cos(self._phi)\n",
    "    \n",
    "    def py(self):\n",
    "        #if self._pT == 0:\n",
    "        #    return 0\n",
    "        #else:\n",
    "            return self._pT * sin(self._phi)\n",
    "    \n",
    "    def pz(self):\n",
    "        #if isinf(self._eta):\n",
    "        #    raise NotImplementedError('Unable to calculate pz if pT = 0')\n",
    "        #else:\n",
    "            return self._pT * sinh(self._eta)\n",
    "        \n",
    "    def eta(self):\n",
    "        return self._eta\n",
    "    \n",
    "    def phi(self):\n",
    "        return self._phi\n",
    "\n",
    "    def p3(self):\n",
    "        return ThreeMomentum(self.px(), self.py(), self.pz())\n",
    "    \n",
    "    def __add__(self, other):\n",
    "        new_E = self._E + other._E\n",
    "        new_p3 = self.p3() + other.p3()\n",
    "        return self.from_E_and_p3(new_E, new_p3)\n",
    "        \n",
    "    def p3_squared(self):\n",
    "        return self.px() ** 2 + self.py() ** 2 + self.pz() ** 2\n",
    "        \n",
    "    def p3_magnitude(self):\n",
    "        return sqrt(self.p3_squared())\n",
    "    \n",
    "    def m(self):\n",
    "        return sqrt(self._E ** 2 - self.p3_squared())\n",
    "    \n",
    "    def __getitem__(self, key):\n",
    "        return FourMomentum(self.E()[key], self.pT()[key], self.eta()[key], self.phi()[key])\n",
    "        \n",
    "def deltaEta(v1, v2):\n",
    "    return v2.eta() - v1.eta()\n",
    "\n",
    "def deltaPhi(v1, v2):\n",
    "    return get_smallest_radian_value(v2.phi() - v1.phi())\n",
    "\n",
    "def deltaR(v1, v2):\n",
    "    return hypot(deltaEta(v1, v2), deltaPhi(v1, v2))"
   ]
  },
  {
   "cell_type": "markdown",
   "metadata": {},
   "source": [
    "## Construct four-vectors for jets and LLPs\n",
    "Next, just pick out the right columns and make the FourMomentum objects. The above implementation is intentionally agnostic to whether the inputs are scalars or arrays of arbitrary dimensions. As long as the inputs match in shape, you'll get all the four-vectors out in a form that matches the inputs. I make one array for jets and one array for LLPs."
   ]
  },
  {
   "cell_type": "code",
   "execution_count": 7,
   "metadata": {},
   "outputs": [],
   "source": [
    "jet_E = output_array[0][0]\n",
    "jet_pT = output_array[0][1]\n",
    "jet_eta = output_array[0][2]\n",
    "jet_phi = output_array[0][3]\n",
    "jet_p4 = FourMomentum(jet_E, jet_pT, jet_eta, jet_phi)"
   ]
  },
  {
   "cell_type": "code",
   "execution_count": 8,
   "metadata": {},
   "outputs": [],
   "source": [
    "LLP_E = output_array[1][0]\n",
    "LLP_pT = output_array[1][1]\n",
    "LLP_eta = output_array[1][2]\n",
    "LLP_phi = output_array[1][3]\n",
    "LLP_p4 = FourMomentum(LLP_E, LLP_pT, LLP_eta, LLP_phi)"
   ]
  },
  {
   "cell_type": "markdown",
   "metadata": {},
   "source": [
    "## Plots\n",
    "Use the FourMomentum arrays to plot the jet and LLP parameters."
   ]
  },
  {
   "cell_type": "code",
   "execution_count": 14,
   "metadata": {},
   "outputs": [
    {
     "data": {
      "image/png": "[encoded data removed]",
      "text/plain": [
       "<Figure size 432x288 with 1 Axes>"
      ]
     },
     "metadata": {
      "needs_background": "light"
     },
     "output_type": "display_data"
    },
    {
     "data": {
      "image/png": "[encoded data removed]",
      "text/plain": [
       "<Figure size 432x288 with 1 Axes>"
      ]
     },
     "metadata": {
      "needs_background": "light"
     },
     "output_type": "display_data"
    },
    {
     "data": {
      "image/png": "[encoded data removed]",
      "text/plain": [
       "<Figure size 432x288 with 1 Axes>"
      ]
     },
     "metadata": {
      "needs_background": "light"
     },
     "output_type": "display_data"
    },
    {
     "data": {
      "image/png": "[encoded data removed]",
      "text/plain": [
       "<Figure size 432x288 with 1 Axes>"
      ]
     },
     "metadata": {
      "needs_background": "light"
     },
     "output_type": "display_data"
    },
    {
     "data": {
      "image/png": "[encoded data removed]",
      "text/plain": [
       "<Figure size 432x288 with 1 Axes>"
      ]
     },
     "metadata": {
      "needs_background": "light"
     },
     "output_type": "display_data"
    }
   ],
   "source": [
    "import matplotlib.pyplot as plt\n",
    "\n",
    "plt.hist(jet_p4.E().flatten(), 100, (0,1000))\n",
    "plt.title('E')\n",
    "plt.xlabel('Jet energy (GeV)')\n",
    "plt.ylabel('Number of jets')\n",
    "plt.show()\n",
    "\n",
    "plt.hist(jet_p4.pT().flatten(), 100, (0,1000))\n",
    "plt.title('pT')\n",
    "plt.xlabel('Jet pT (GeV)')\n",
    "plt.ylabel('Number of jets')\n",
    "plt.show()\n",
    "\n",
    "plt.hist(jet_p4.eta().flatten(), 100, (-5,5))\n",
    "plt.title('Eta')\n",
    "plt.xlabel('Jet eta')\n",
    "plt.ylabel('Number of jets')\n",
    "plt.show()\n",
    "\n",
    "plt.hist(jet_p4.phi().flatten(), 100, (-pi,pi))\n",
    "plt.title('Phi')\n",
    "plt.xlabel('Jet phi (rad)')\n",
    "plt.ylabel('Number of jets')\n",
    "plt.show()\n",
    "\n",
    "plt.hist(jet_p4.m().flatten(), 100, (0,100))\n",
    "plt.title('Mass')\n",
    "plt.xlabel('Jet mass (GeV)')\n",
    "plt.ylabel('Number of jets')\n",
    "plt.show()"
   ]
  },
  {
   "cell_type": "code",
   "execution_count": 10,
   "metadata": {},
   "outputs": [
    {
     "data": {
      "image/png": "[encoded data removed]",
      "text/plain": [
       "<Figure size 432x288 with 1 Axes>"
      ]
     },
     "metadata": {
      "needs_background": "light"
     },
     "output_type": "display_data"
    },
    {
     "data": {
      "image/png": "[encoded data removed]",
      "text/plain": [
       "<Figure size 432x288 with 1 Axes>"
      ]
     },
     "metadata": {
      "needs_background": "light"
     },
     "output_type": "display_data"
    },
    {
     "data": {
      "image/png": "[encoded data removed]",
      "text/plain": [
       "<Figure size 432x288 with 1 Axes>"
      ]
     },
     "metadata": {
      "needs_background": "light"
     },
     "output_type": "display_data"
    },
    {
     "data": {
      "image/png": "[encoded data removed]",
      "text/plain": [
       "<Figure size 432x288 with 1 Axes>"
      ]
     },
     "metadata": {
      "needs_background": "light"
     },
     "output_type": "display_data"
    },
    {
     "data": {
      "image/png": "[encoded data removed]",
      "text/plain": [
       "<Figure size 432x288 with 1 Axes>"
      ]
     },
     "metadata": {
      "needs_background": "light"
     },
     "output_type": "display_data"
    }
   ],
   "source": [
    "plt.hist(LLP_p4.E().flatten() / 1000, 100, (0,1000))\n",
    "plt.title('E')\n",
    "plt.xlabel('LLP energy (GeV)')\n",
    "plt.ylabel('Number of LLPs')\n",
    "plt.show()\n",
    "\n",
    "plt.hist(LLP_p4.pT().flatten() / 1000, 100, (0,1000))\n",
    "plt.title('pT')\n",
    "plt.xlabel('LLP pT (GeV)')\n",
    "plt.ylabel('Number of LLPs')\n",
    "plt.show()\n",
    "\n",
    "plt.hist(LLP_p4.eta().flatten(), 100, (-10,10))\n",
    "plt.title('Eta')\n",
    "plt.xlabel('LLP eta')\n",
    "plt.ylabel('Number of LLPs')\n",
    "plt.show()\n",
    "\n",
    "plt.hist(LLP_p4.phi().flatten(), 100, (-pi,pi))\n",
    "plt.title('Phi')\n",
    "plt.xlabel('LLP phi (rad)')\n",
    "plt.ylabel('Number of LLPs')\n",
    "plt.show()\n",
    "\n",
    "plt.hist(LLP_p4.m().flatten() / 1000, 100, (24,26))\n",
    "plt.title('Mass')\n",
    "plt.xlabel('LLP mass (GeV)')\n",
    "plt.ylabel('Number of LLPs')\n",
    "plt.show()"
   ]
  },
  {
   "cell_type": "markdown",
   "metadata": {},
   "source": [
    "## Four-vector sums\n",
    "We can verify the four-vector addition by summing the two LLPs in each event and ploting the resulting kinematics. This should correspond to the phi scalar mediator with a mass of 125 GeV."
   ]
  },
  {
   "cell_type": "code",
   "execution_count": 11,
   "metadata": {},
   "outputs": [],
   "source": [
    "LLP_p4_sums = LLP_p4[:,0] + LLP_p4[:,1]"
   ]
  },
  {
   "cell_type": "code",
   "execution_count": 12,
   "metadata": {},
   "outputs": [
    {
     "data": {
      "image/png": "[encoded data removed]",
      "text/plain": [
       "<Figure size 432x288 with 1 Axes>"
      ]
     },
     "metadata": {
      "needs_background": "light"
     },
     "output_type": "display_data"
    },
    {
     "data": {
      "image/png": "[encoded data removed]",
      "text/plain": [
       "<Figure size 432x288 with 1 Axes>"
      ]
     },
     "metadata": {
      "needs_background": "light"
     },
     "output_type": "display_data"
    },
    {
     "data": {
      "image/png": "[encoded data removed]",
      "text/plain": [
       "<Figure size 432x288 with 1 Axes>"
      ]
     },
     "metadata": {
      "needs_background": "light"
     },
     "output_type": "display_data"
    },
    {
     "data": {
      "image/png": "[encoded data removed]",
      "text/plain": [
       "<Figure size 432x288 with 1 Axes>"
      ]
     },
     "metadata": {
      "needs_background": "light"
     },
     "output_type": "display_data"
    },
    {
     "data": {
      "image/png": "[encoded data removed]",
      "text/plain": [
       "<Figure size 432x288 with 1 Axes>"
      ]
     },
     "metadata": {
      "needs_background": "light"
     },
     "output_type": "display_data"
    }
   ],
   "source": [
    "plt.hist(LLP_p4_sums.E() / 1000, 100, (0,1000))\n",
    "plt.title('E')\n",
    "plt.xlabel('Phi energy (GeV)')\n",
    "plt.ylabel('Number of events')\n",
    "plt.show()\n",
    "\n",
    "plt.hist(LLP_p4_sums.pT() / 1000, 100, (0,1000))\n",
    "plt.title('pT')\n",
    "plt.xlabel('Phi pT (GeV)')\n",
    "plt.ylabel('Number of events')\n",
    "plt.show()\n",
    "\n",
    "plt.hist(LLP_p4_sums.eta(), 100, (-10,10))\n",
    "plt.title('Eta')\n",
    "plt.xlabel('Phi eta')\n",
    "plt.ylabel('Number of events')\n",
    "plt.show()\n",
    "\n",
    "plt.hist(LLP_p4_sums.phi(), 100, (-pi,pi))\n",
    "plt.title('Phi')\n",
    "plt.xlabel('Phi phi (rad)')\n",
    "plt.ylabel('Number of events')\n",
    "plt.show()\n",
    "\n",
    "plt.hist(LLP_p4_sums.m() / 1000, 100, (124,126))\n",
    "plt.title('Mass')\n",
    "plt.xlabel('Phi mass (GeV)')\n",
    "plt.ylabel('Number of events')\n",
    "plt.show()"
   ]
  },
  {
   "cell_type": "markdown",
   "metadata": {},
   "source": [
    "## LLP-jet matching\n",
    "Finally, quickly check the `deltaR()` method. Let's look at all the jets in the first event and see if any can be matched to the LLPs."
   ]
  },
  {
   "cell_type": "code",
   "execution_count": 13,
   "metadata": {},
   "outputs": [
    {
     "name": "stdout",
     "output_type": "stream",
     "text": [
      "jets:\n",
      "E = 209.45963567695793, pT = 85.585328125, eta = -1.5411477088928223, phi = 1.5399823188781738\n",
      "E = 50.8569008621466, pT = 30.156796875, eta = 1.1030752658843994, phi = -1.7798477411270142\n",
      "E = 38.23670360942477, pT = 27.329365234375, eta = -0.8471185564994812, phi = 1.7790178060531616\n",
      "E = 23.43329205292181, pT = 22.639572265625, eta = -0.12941420078277588, phi = 0.2987922728061676\n",
      "E = 34.08531686173584, pT = 21.113765625, eta = 1.0522892475128174, phi = 2.3908755779266357\n",
      "E = 21.40224822199898, pT = 19.114765625, eta = -0.43428581953048706, phi = 1.3274266719818115\n",
      "E = 18.774834928534673, pT = 17.340818359375, eta = -0.35882750153541565, phi = -2.048685312271118\n",
      "E = 17.40520495450177, pT = 16.1868828125, eta = 0.33463695645332336, phi = -1.041507601737976\n",
      "LLPs:\n",
      "E = 166898.46875, pT = 65596.34050706915, eta = -1.5735909965496448, phi = 1.5547155588639499\n",
      "E = 326920.8125, pT = 27499.00248973422, eta = -3.1639988776541808, phi = -1.5469162668364922\n",
      "LLP 1:\n",
      "\tjet 1 deltaR: 0.03563194177226111\n",
      "\tjet 2 deltaR: 3.982325202909689\n",
      "\tjet 3 deltaR: 0.7603115836593369\n",
      "\tjet 4 deltaR: 1.9138939150051235\n",
      "\tjet 5 deltaR: 2.7557958258253543\n",
      "\tjet 6 deltaR: 1.1617557938236314\n",
      "\tjet 7 deltaR: 2.9422601809638835\n",
      "\tjet 8 deltaR: 3.222065893222507\n",
      "LLP 2:\n",
      "\tjet 1 deltaR: 3.487490328938177\n",
      "\tjet 2 deltaR: 4.273427057780519\n",
      "\tjet 3 deltaR: 3.7567631393612286\n",
      "\tjet 4 deltaR: 3.5518085779518818\n",
      "\tjet 5 deltaR: 4.824723416732829\n",
      "\tjet 6 deltaR: 3.9639854577969444\n",
      "\tjet 7 deltaR: 2.849694479124459\n",
      "\tjet 8 deltaR: 3.5349527038501907\n"
     ]
    }
   ],
   "source": [
    "for event_jet_p4, event_llp_p4 in zip(jet_p4, LLP_p4):\n",
    "    print('jets:')\n",
    "    for indiv_jet_p4 in event_jet_p4:\n",
    "        print(indiv_jet_p4)\n",
    "    print('LLPs:')\n",
    "    for indiv_llp_p4 in event_llp_p4:\n",
    "        print(indiv_llp_p4)\n",
    "    llp_num = 0\n",
    "    for indiv_llp_p4 in event_llp_p4:\n",
    "        llp_num += 1\n",
    "        print('LLP ' + str(llp_num) + ':')\n",
    "        jet_num = 0\n",
    "        for indiv_jet_p4 in event_jet_p4:\n",
    "            jet_num += 1\n",
    "            print('\\tjet', jet_num, 'deltaR:', deltaR(indiv_llp_p4, indiv_jet_p4))\n",
    "    break"
   ]
  },
  {
   "cell_type": "markdown",
   "metadata": {},
   "source": [
    "Clearly the first jet matches the first LLP. It looks like the second LLP is a bit too far out in eta, and no jet matches."
   ]
  },
  {
   "cell_type": "code",
   "execution_count": null,
   "metadata": {},
   "outputs": [],
   "source": []
  }
 ],
 "metadata": {
  "kernelspec": {
   "display_name": "Python 3",
   "language": "python",
   "name": "python3"
  },
  "language_info": {
   "codemirror_mode": {
    "name": "ipython",
    "version": 3
   },
   "file_extension": ".py",
   "mimetype": "text/x-python",
   "name": "python",
   "nbconvert_exporter": "python",
   "pygments_lexer": "ipython3",
   "version": "3.7.3"
  }
 },
 "nbformat": 4,
 "nbformat_minor": 2
}
